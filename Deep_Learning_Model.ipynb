{
 "cells": [
  {
   "cell_type": "code",
   "execution_count": 3,
   "metadata": {
    "colab": {
     "base_uri": "https://localhost:8080/",
     "height": 105
    },
    "colab_type": "code",
    "id": "ku-qbqcerl17",
    "outputId": "a7e4b346-43a9-40a6-9981-ca9287880119"
   },
   "outputs": [
    {
     "name": "stderr",
     "output_type": "stream",
     "text": [
      "/usr/local/lib/python3.6/dist-packages/statsmodels/tools/_testing.py:19: FutureWarning: pandas.util.testing is deprecated. Use the functions in the public API at pandas.testing instead.\n",
      "  import pandas.util.testing as tm\n"
     ]
    },
    {
     "name": "stdout",
     "output_type": "stream",
     "text": [
      "[nltk_data] Downloading package stopwords to /root/nltk_data...\n",
      "[nltk_data]   Package stopwords is already up-to-date!\n"
     ]
    }
   ],
   "source": [
    "# Import all libraries\n",
    "import glob \n",
    "from sklearn.model_selection import train_test_split\n",
    "from keras.models import Sequential\n",
    "from keras.layers import LSTM,Dense,Dropout,Embedding,LSTM,Bidirectional,  Conv1D, MaxPooling1D\n",
    "from keras.preprocessing.text import Tokenizer\n",
    "from keras.preprocessing.sequence import pad_sequences\n",
    "from tqdm import tqdm\n",
    "import matplotlib.pyplot as plt\n",
    "import seaborn as sns\n",
    "%matplotlib inline\n",
    "import pandas as pd\n",
    "from tensorflow import keras\n",
    "import re\n",
    "import numpy as np \n",
    "import pandas as pd\n",
    "import matplotlib.pyplot as plt\n",
    "import seaborn as sns\n",
    "from keras.preprocessing.text import Tokenizer\n",
    "from keras.preprocessing.sequence import pad_sequences\n",
    "from keras.models import Sequential\n",
    "from keras.layers import Dense, Embedding, LSTM, SpatialDropout1D\n",
    "from sklearn.model_selection import train_test_split\n",
    "from keras.utils.np_utils import to_categorical\n",
    "from keras.callbacks import EarlyStopping\n",
    "from keras.layers import Dropout\n",
    "import nltk\n",
    "from nltk.corpus import stopwords\n",
    "from nltk import word_tokenize\n",
    "import pickle\n",
    "from sklearn.metrics import precision_recall_fscore_support\n",
    "nltk.download('stopwords')\n",
    "STOPWORDS = set(stopwords.words('english'))"
   ]
  },
  {
   "cell_type": "code",
   "execution_count": 4,
   "metadata": {
    "colab": {},
    "colab_type": "code",
    "id": "3DWxY1e3rn98"
   },
   "outputs": [],
   "source": [
    "# Data Pre-processing\n",
    "def handle_emojis(tweet):\n",
    "    tweet = re.sub(r'(:\\s?\\)|:-\\)|\\(\\s?:|\\(-:|:\\'\\))', ' EMO_POS ', tweet) # Smile -- :), : ), :-), (:, ( :, (-:, :')\n",
    "    tweet = re.sub(r'(:\\s?D|:-D|x-?D|X-?D)', ' EMO_POS ', tweet)           # Laugh -- :D, : D, :-D, xD, x-D, XD, X-D\n",
    "    tweet = re.sub(r'(<3|:\\*)', ' EMO_POS ', tweet)                        # Love -- <3, :*   \n",
    "    tweet = re.sub(r'(;-?\\)|;-?D|\\(-?;)', ' EMO_POS ', tweet)              # Wink -- ;-), ;), ;-D, ;D, (;,  (-;  \n",
    "    tweet = re.sub(r'(:\\s?\\(|:-\\(|\\)\\s?:|\\)-:)', ' EMO_NEG ', tweet)       # Sad -- :-(, : (, :(, ):, )-:\n",
    "    tweet = re.sub(r'(:,\\(|:\\'\\(|:\"\\()', ' EMO_NEG ', tweet)               # Cry -- :,(, :'(, :\"(     \n",
    "    return tweet\n",
    "\n",
    "def is_valid_word(word):\n",
    "    return (re.search(r'^[a-zA-Z][a-z0-9A-Z\\._]*$', word) is not None)     # Check if word begins with an alphabet\n",
    "    \n",
    "def preprocess_word(word):\n",
    "    word = word.strip('\\'\"?!,.():;')                                       # Remove punctuation\n",
    "    word = re.sub(r'(.)\\1+', r'\\1\\1', word)                                # Convert more than 2 letter repetitions to 2 letter \n",
    "    word = re.sub(r'(-|\\')', '', word)                                     # Remove - & '\n",
    "    return word\n",
    "\n",
    "def preprocess_tweet(tweet):\n",
    "  processed_tweet = []\n",
    "  tweet = tweet.lower()                                                    # Convert to lower case\n",
    "  tweet = re.sub(r'((www\\.[\\S]+)|(https?://[\\S]+))', ' ', tweet)           # Convert to lower case\n",
    "  tweet = re.sub(r'@[\\S]+', ' ', tweet)                                    # Replace @handle with the word USER_MENTION\n",
    "  tweet = re.sub(r'#', '', tweet)                                          # Replaces #hashtag with hashtag\n",
    "  tweet = re.sub(r'\\brt\\b', '', tweet)                                     # Remove RT (retweet)\n",
    "  tweet = re.sub(r'\\.{2,}', ' ', tweet)                                    # Replace 2+ dots with space \n",
    "  tweet = tweet.strip(' \"\\'')                                              # Strip space, \" and ' from tweet\n",
    "  tweet = handle_emojis(tweet)                                             # Replace emojis with either EMO_POS or EMO_NEG\n",
    "  tweet = re.sub(r'\\s+', ' ', tweet)                                       # Replace multiple spaces with a single space \n",
    "  words = tweet.split()\n",
    "  for word in words:\n",
    "    word = preprocess_word(word)\n",
    "    if is_valid_word(word):\n",
    "      processed_tweet.append(word)\n",
    "  clean_tweet = ' '.join(processed_tweet)\n",
    "  return clean_tweet"
   ]
  },
  {
   "cell_type": "code",
   "execution_count": 5,
   "metadata": {
    "colab": {
     "base_uri": "https://localhost:8080/",
     "height": 34
    },
    "colab_type": "code",
    "id": "iduOu5Rhr-JZ",
    "outputId": "55cbfd66-2a7c-4f18-d241-37b53e98a3a4"
   },
   "outputs": [
    {
     "data": {
      "text/plain": [
       "(35514, 4)"
      ]
     },
     "execution_count": 5,
     "metadata": {
      "tags": []
     },
     "output_type": "execute_result"
    }
   ],
   "source": [
    "df = pd.read_csv('Dataset.csv')  # Read csv file\n",
    "df['Category_id'] = df['Category'].factorize()[0]\n",
    "category_id_df = df[['Category', 'Category_id']].drop_duplicates().sort_values('Category_id')\n",
    "category_to_id = dict(category_id_df.values)                                 # Category to Id dictionary\n",
    "id_to_category = dict(category_id_df[['Category_id', 'Category']].values)    # Id to Category dictionary\n",
    "df.shape"
   ]
  },
  {
   "cell_type": "code",
   "execution_count": 6,
   "metadata": {
    "colab": {
     "base_uri": "https://localhost:8080/",
     "height": 444
    },
    "colab_type": "code",
    "id": "SQ7XJS52xXI_",
    "outputId": "bdb2a451-cf38-4795-98d3-8dfb15bf033b"
   },
   "outputs": [
    {
     "data": {
      "image/png": "[encoded data removed]",
      "text/plain": [
       "<Figure size 576x432 with 1 Axes>"
      ]
     },
     "metadata": {
      "needs_background": "light",
      "tags": []
     },
     "output_type": "display_data"
    }
   ],
   "source": [
    "# Visualization of dataset\n",
    "fig = plt.figure(figsize=(8,6))\n",
    "df.groupby('Category').Tweets.count().plot.bar(ylim=0)\n",
    "plt.show()"
   ]
  },
  {
   "cell_type": "code",
   "execution_count": 7,
   "metadata": {
    "colab": {
     "base_uri": "https://localhost:8080/",
     "height": 88
    },
    "colab_type": "code",
    "id": "k-kRKU0jEcbJ",
    "outputId": "1db0fe55-9662-4a61-aee4-541a45e84d9f"
   },
   "outputs": [
    {
     "name": "stdout",
     "output_type": "stream",
     "text": [
      "Riot Rewards: BJP's Vote Share Increases After Hindu-Muslim Clashes Riot Rewards: BJP's Vote Share Increases After Hindu-Muslim Clashes. A 1% increase in the number of riots in a district improves BJP's vote share by 4.4%. https://t.co/lbKqsRyVUz\n",
      "\n",
      "riot rewards bjps vote share increases after hindumuslim clashes riot rewards bjps vote share increases after hindumuslim clashes a increase in the number of riots in a district improves bjps vote share by\n"
     ]
    }
   ],
   "source": [
    "clean_tweet = []\n",
    "for i in range(df.shape[0]):\n",
    "  clean_tweet.append(preprocess_tweet(df['Tweets'][i]))\n",
    "df['Clean_tweets'] = clean_tweet\n",
    "print(df['Tweets'][10])\n",
    "print(df['Clean_tweets'][10])"
   ]
  },
  {
   "cell_type": "code",
   "execution_count": 8,
   "metadata": {
    "colab": {
     "base_uri": "https://localhost:8080/",
     "height": 51
    },
    "colab_type": "code",
    "id": "r5-Ht0by0E9g",
    "outputId": "67d7fb93-4326-42e1-8122-3854d21308b6"
   },
   "outputs": [
    {
     "name": "stdout",
     "output_type": "stream",
     "text": [
      "(28411,) (28411,)\n",
      "(7103,) (7103,)\n"
     ]
    }
   ],
   "source": [
    "# Split dataset into train and test set\n",
    "X_train, X_test, Y_train, Y_test = train_test_split(df['Clean_tweets'], df['Category_id'], train_size = 0.80, random_state = 0)\n",
    "print(X_train.shape,Y_train.shape)\n",
    "print(X_test.shape,Y_test.shape)"
   ]
  },
  {
   "cell_type": "code",
   "execution_count": 9,
   "metadata": {
    "colab": {
     "base_uri": "https://localhost:8080/",
     "height": 34
    },
    "colab_type": "code",
    "id": "7n-SP84a0zzd",
    "outputId": "e07eb4c4-8da5-4fe5-b994-7c26c809aa8f"
   },
   "outputs": [
    {
     "name": "stdout",
     "output_type": "stream",
     "text": [
      "Loaded 400000 word vectors.\n"
     ]
    }
   ],
   "source": [
    "# Load Glove embeeding matrix\n",
    "embeddings_index = dict()\n",
    "f = open('glove.6B.100d.txt')\n",
    "for line in f:\n",
    "    values = line.split()\n",
    "    word = values[0]\n",
    "    coefs = np.asarray(values[1:], dtype='float32')\n",
    "    embeddings_index[word] = coefs\n",
    "f.close()\n",
    "print('Loaded %s word vectors.' % len(embeddings_index))"
   ]
  },
  {
   "cell_type": "code",
   "execution_count": 10,
   "metadata": {
    "colab": {
     "base_uri": "https://localhost:8080/",
     "height": 34
    },
    "colab_type": "code",
    "id": "ePv3SCrG1Yx1",
    "outputId": "dd176819-ced5-4ef9-a98e-cedb4b746795"
   },
   "outputs": [
    {
     "name": "stdout",
     "output_type": "stream",
     "text": [
      "Found 32284 unique tokens.\n"
     ]
    }
   ],
   "source": [
    "MAX_NB_WORDS = 50000                                            # The maximum number of words to be used. (most frequent)\n",
    "MAX_SEQUENCE_LENGTH = 250                                       # Max number of words in each tweet.\n",
    "EMBEDDING_DIM = 100                                             # Dimension of each words.\n",
    "tokenizer = Tokenizer(num_words=MAX_NB_WORDS,  lower=True)\n",
    "tokenizer.fit_on_texts(X_train.values)                          # Fit tokenizer on train data\n",
    "word_index = tokenizer.word_index\n",
    "print('Found %s unique tokens.' % len(word_index))"
   ]
  },
  {
   "cell_type": "code",
   "execution_count": 11,
   "metadata": {
    "colab": {
     "base_uri": "https://localhost:8080/",
     "height": 51
    },
    "colab_type": "code",
    "id": "znwj7cN21qhN",
    "outputId": "5c715a99-08d5-4fa5-e1fd-2535d72c5753"
   },
   "outputs": [
    {
     "name": "stdout",
     "output_type": "stream",
     "text": [
      "Shape of Train tensor: (28411, 250)\n",
      "Shape of Test tensor: (7103, 250)\n"
     ]
    }
   ],
   "source": [
    "# Convert words to token \n",
    "X_train = tokenizer.texts_to_sequences(X_train.values)\n",
    "X_test = tokenizer.texts_to_sequences(X_test.values)\n",
    "# Pad train and text data to MAX SEQUENCE LENGTH\n",
    "X_train = pad_sequences(X_train, maxlen=MAX_SEQUENCE_LENGTH)\n",
    "X_test = pad_sequences(X_test, maxlen=MAX_SEQUENCE_LENGTH)\n",
    "print('Shape of Train tensor:', X_train.shape)\n",
    "print('Shape of Test tensor:', X_test.shape)"
   ]
  },
  {
   "cell_type": "code",
   "execution_count": 12,
   "metadata": {
    "colab": {},
    "colab_type": "code",
    "id": "2MDs1KMF1-P9"
   },
   "outputs": [],
   "source": [
    "# Convert categorical variable into dummy variables.\n",
    "Y_train = pd.get_dummies(Y_train).values\n",
    "Y_test = pd.get_dummies(Y_test).values"
   ]
  },
  {
   "cell_type": "code",
   "execution_count": 13,
   "metadata": {
    "colab": {},
    "colab_type": "code",
    "id": "JaKjoqL02Rlz"
   },
   "outputs": [],
   "source": [
    "# Create a weight matrix for words in training docs\n",
    "embedding_matrix = np.zeros((MAX_NB_WORDS, 100))\n",
    "for word, index in tokenizer.word_index.items():\n",
    "    if index > MAX_NB_WORDS - 1:\n",
    "        break\n",
    "    else:\n",
    "        embedding_vector = embeddings_index.get(word)\n",
    "        if embedding_vector is not None:\n",
    "            embedding_matrix[index] = embedding_vector"
   ]
  },
  {
   "cell_type": "code",
   "execution_count": 14,
   "metadata": {
    "colab": {},
    "colab_type": "code",
    "id": "Plt90d9X2nVy"
   },
   "outputs": [],
   "source": [
    "#CNN Model\n",
    "def cnn_model():\n",
    "  model_conv = Sequential()\n",
    "  model_conv.add(Embedding(MAX_NB_WORDS, 100, input_length=MAX_SEQUENCE_LENGTH, weights=[embedding_matrix], trainable=True))\n",
    "  model_conv.add(Dropout(0.2))\n",
    "  model_conv.add(Conv1D(64, 5, activation='relu'))\n",
    "  model_conv.add(MaxPooling1D(pool_size=4))\n",
    "  model_conv.add(LSTM(100))\n",
    "  model_conv.add(Dense(6, activation='sigmoid'))\n",
    "  model_conv.compile(loss='binary_crossentropy', optimizer='adam',    metrics=['accuracy'])\n",
    "  return model_conv"
   ]
  },
  {
   "cell_type": "code",
   "execution_count": 15,
   "metadata": {
    "colab": {},
    "colab_type": "code",
    "id": "oBlQQqS23ic8"
   },
   "outputs": [],
   "source": [
    "# Unidirectional LSTM Model\n",
    "def unidirectional_lstm():\n",
    "  model_glove = Sequential()\n",
    "  model_glove.add(Embedding(MAX_NB_WORDS, 100, input_length=MAX_SEQUENCE_LENGTH, weights=[embedding_matrix], trainable=True))\n",
    "  model_glove.add(Dropout(0.2))\n",
    "  model_glove.add(LSTM(100, return_sequences=True))\n",
    "  model_glove.add(LSTM(100))\n",
    "  model_glove.add(Dense(6, activation='sigmoid'))\n",
    "  model_glove.compile(loss='binary_crossentropy', optimizer='adam', metrics=['accuracy'])\n",
    "  return model_glove"
   ]
  },
  {
   "cell_type": "code",
   "execution_count": 16,
   "metadata": {
    "colab": {},
    "colab_type": "code",
    "id": "o3rJsuvy3rrb"
   },
   "outputs": [],
   "source": [
    "# BiDirectional LSTM Model\n",
    "def bidirectional_model():\n",
    "  model_glove = Sequential()\n",
    "  model_glove.add(Embedding(MAX_NB_WORDS, 100, input_length=MAX_SEQUENCE_LENGTH, weights=[embedding_matrix], trainable=True))\n",
    "  model_glove.add(Dropout(0.2))\n",
    "  # model_glove.add(Bidirectional(LSTM(100), return_sequence = True))\n",
    "  model_glove.add(Bidirectional(LSTM(100)))\n",
    "  model_glove.add(Dense(6, activation='sigmoid'))\n",
    "  model_glove.compile(loss='binary_crossentropy', optimizer='adam', metrics=['accuracy'])\n",
    "  model_glove.summary()\n",
    "  return model_glove"
   ]
  },
  {
   "cell_type": "code",
   "execution_count": 17,
   "metadata": {
    "colab": {
     "base_uri": "https://localhost:8080/",
     "height": 187
    },
    "colab_type": "code",
    "id": "WPsn-XuB3xWn",
    "outputId": "cea91a20-b05d-406c-e3ec-f8b7ba8f5bd3"
   },
   "outputs": [
    {
     "name": "stdout",
     "output_type": "stream",
     "text": [
      "Epoch 1/5\n",
      "711/711 [==============================] - 53s 75ms/step - loss: 0.2353 - accuracy: 0.6814 - val_loss: 0.1440 - val_accuracy: 0.8279\n",
      "Epoch 2/5\n",
      "711/711 [==============================] - 52s 73ms/step - loss: 0.1163 - accuracy: 0.8596 - val_loss: 0.1139 - val_accuracy: 0.8638\n",
      "Epoch 3/5\n",
      "711/711 [==============================] - 52s 73ms/step - loss: 0.0759 - accuracy: 0.9132 - val_loss: 0.1083 - val_accuracy: 0.8749\n",
      "Epoch 4/5\n",
      "711/711 [==============================] - 52s 73ms/step - loss: 0.0517 - accuracy: 0.9435 - val_loss: 0.1075 - val_accuracy: 0.8795\n",
      "Epoch 5/5\n",
      "711/711 [==============================] - 51s 72ms/step - loss: 0.0371 - accuracy: 0.9604 - val_loss: 0.1144 - val_accuracy: 0.8751\n"
     ]
    }
   ],
   "source": [
    "# Instantiate and train model\n",
    "model_glove = unidirectional_lstm()   # Modify this line to model_glove = cnn_model() or  model_glove = bidirectional_lstm()\n",
    "epochs = 5                 # Number of epocs\n",
    "batch_size = 32             # Size of batch\n",
    "history = model_glove.fit(X_train, Y_train, epochs=epochs, batch_size=batch_size,validation_split=0.2)"
   ]
  },
  {
   "cell_type": "code",
   "execution_count": 20,
   "metadata": {
    "colab": {
     "base_uri": "https://localhost:8080/",
     "height": 34
    },
    "colab_type": "code",
    "id": "nHxbLM_B_QJ3",
    "outputId": "90824395-c738-49c8-9227-cc2a79db8044"
   },
   "outputs": [
    {
     "name": "stdout",
     "output_type": "stream",
     "text": [
      "INFO:tensorflow:Assets written to: /content/drive/My Drive/Btech Project/StageII/model/assets\n"
     ]
    }
   ],
   "source": [
    "model_glove.save('model')\n",
    "pickle.dump(tokenizer, open(\"tokenizer.pickle\", \"wb\")) # Save tokenizer using Pickle"
   ]
  },
  {
   "cell_type": "code",
   "execution_count": 22,
   "metadata": {
    "colab": {
     "base_uri": "https://localhost:8080/",
     "height": 68
    },
    "colab_type": "code",
    "id": "rZgDMcnk41lK",
    "outputId": "dce2dc30-ccfb-40b6-989d-bf171e8159bb"
   },
   "outputs": [
    {
     "name": "stdout",
     "output_type": "stream",
     "text": [
      "Precision : 0.8672747533051144\n",
      "Recall : 0.8631048938539766\n",
      "F-Score : 0.8650292960375875\n"
     ]
    }
   ],
   "source": [
    "# Get Precision, Recall and F-Score for test data\n",
    "y_pred = model_glove.predict(X_test)\n",
    "y_pred_idx = [np.where(row == np.max(row))[0][0] for row in y_pred ]\n",
    "y_test_idx = [np.where(row == np.max(row))[0][0] for row in Y_test ]\n",
    "val = precision_recall_fscore_support(y_test_idx, y_pred_idx, average='macro')\n",
    "print(\"Precision : \" + str(val[0]))\n",
    "print(\"Recall : \" + str(val[1]))\n",
    "print(\"F-Score : \" + str(val[2]))"
   ]
  },
  {
   "cell_type": "code",
   "execution_count": 25,
   "metadata": {
    "colab": {},
    "colab_type": "code",
    "id": "VaB7Zgp0_FBZ"
   },
   "outputs": [],
   "source": [
    "# Function to check political orientation of tweet\n",
    "glove = keras.models.load_model('model')\n",
    "\n",
    "def predict_orientation(tweet):\n",
    "  tweet = preprocess_tweet(tweet)\n",
    "  seq = tokenizer.texts_to_sequences([tweet])\n",
    "  padded = pad_sequences(seq, maxlen=MAX_SEQUENCE_LENGTH)\n",
    "  pred = glove.predict(padded)\n",
    "  labels = ['BjpAnti', 'BjpPro', 'CongAnti', 'CongPro', 'ShivsenaAnti', 'ShivsenaPro']\n",
    "  print(labels[np.argmax(pred)])"
   ]
  },
  {
   "cell_type": "code",
   "execution_count": 26,
   "metadata": {
    "colab": {
     "base_uri": "https://localhost:8080/",
     "height": 34
    },
    "colab_type": "code",
    "id": "5-zEeaBmBKX6",
    "outputId": "79248f11-feae-4a25-b30e-9d0d0430e6be"
   },
   "outputs": [
    {
     "name": "stdout",
     "output_type": "stream",
     "text": [
      "CongAnti\n"
     ]
    }
   ],
   "source": [
    "predict_orientation(\"Congress is worst party\")"
   ]
  }
 ],
 "metadata": {
  "accelerator": "GPU",
  "colab": {
   "collapsed_sections": [],
   "name": "Deep Learning Model.ipynb",
   "provenance": []
  },
  "kernelspec": {
   "display_name": "Python 3",
   "language": "python",
   "name": "python3"
  },
  "language_info": {
   "codemirror_mode": {
    "name": "ipython",
    "version": 3
   },
   "file_extension": ".py",
   "mimetype": "text/x-python",
   "name": "python",
   "nbconvert_exporter": "python",
   "pygments_lexer": "ipython3",
   "version": "3.5.6"
  }
 },
 "nbformat": 4,
 "nbformat_minor": 1
}
